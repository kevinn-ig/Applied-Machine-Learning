{
 "cells": [
  {
   "cell_type": "markdown",
   "metadata": {},
   "source": [
    "# Homework 5\n",
    "Evelina Teran & Kevin Smith"
   ]
  },
  {
   "cell_type": "code",
   "execution_count": 1,
   "metadata": {},
   "outputs": [],
   "source": [
    "import numpy as np\n",
    "import pandas as pd\n",
    "import platform\n",
    "import os\n",
    "from sklearn import datasets\n",
    "from sklearn.preprocessing import StandardScaler\n",
    "from sklearn.linear_model import LogisticRegression\n",
    "from sklearn.metrics import accuracy_score, roc_curve, auc\n",
    "import matplotlib.pyplot as plt"
   ]
  },
  {
   "cell_type": "code",
   "execution_count": null,
   "metadata": {},
   "outputs": [],
   "source": [
    "# Lorenz Loss:\n",
    "# if(x >1): 0\n",
    "# else: ln(1+(x-1)**2)"
   ]
  },
  {
   "cell_type": "markdown",
   "metadata": {},
   "source": [
    "## Question 1"
   ]
  },
  {
   "cell_type": "code",
   "execution_count": 2,
   "metadata": {},
   "outputs": [],
   "source": [
    "data_direc = os.getcwd() + \"/\"\n",
    "if platform.system() == \"Windows\":\n",
    "    data_direc.replace(\"/\", \"\\\\\")\n",
    "train = pd.read_csv(data_direc + \"gisette_train.csv\")\n",
    "train_labels = pd.read_csv(data_direc + \"gisette_train_labels.csv\")\n",
    "test = pd.read_csv(data_direc + \"gisette_valid.csv\")\n",
    "test_labels = pd.read_csv(data_direc + \"gisette_valid_labels.csv\")\n",
    "train = np.delete(train, 5000, axis=1)\n",
    "test = np.delete(test, 5000, axis=1)\n"
   ]
  },
  {
   "cell_type": "code",
   "execution_count": null,
   "metadata": {},
   "outputs": [],
   "source": [
    "scaler = StandardScaler()\n",
    "train = scaler.fit_transform(train)\n",
    "test = scaler.transform(test)\n",
    "\n",
    "beta = 0\n",
    "mu = 300\n",
    "k = [10,30,100,300,500]\n",
    "max_iter = 300\n",
    "\n",
    "for i in range(max_iter):\n",
    "\n",
    "    beta = beta"
   ]
  },
  {
   "cell_type": "markdown",
   "metadata": {},
   "source": [
    "## Question 2"
   ]
  },
  {
   "cell_type": "code",
   "execution_count": 3,
   "metadata": {},
   "outputs": [],
   "source": [
    "train = pd.read_csv(data_direc + \"dexter_train.csv\", header = None)\n",
    "train_labels = pd.read_csv(data_direc + \"dexter_train_labels.csv\", header = None)\n",
    "test = pd.read_csv(data_direc + \"dexter_valid.csv\", header = None)\n",
    "test_labels = pd.read_csv(data_direc + \"dexter_valid_labels.csv\", header = None)"
   ]
  },
  {
   "cell_type": "code",
   "execution_count": null,
   "metadata": {},
   "outputs": [],
   "source": [
    "scaler = StandardScaler()\n",
    "train = scaler.fit_transform(train)\n",
    "test = scaler.transform(test)"
   ]
  },
  {
   "cell_type": "markdown",
   "metadata": {},
   "source": [
    "## Question 3"
   ]
  },
  {
   "cell_type": "code",
   "execution_count": 4,
   "metadata": {},
   "outputs": [],
   "source": [
    "train = pd.read_fwf(data_direc + \"madelon_train.data\", header = None)\n",
    "train_labels = pd.read_fwf(data_direc + \"madelon_train.labels\", header = None)\n",
    "test = pd.read_fwf(data_direc + \"madelon_valid.data\", header = None)\n",
    "test_labels = pd.read_fwf(data_direc + \"madelon_valid.labels\", header = None)"
   ]
  },
  {
   "cell_type": "code",
   "execution_count": null,
   "metadata": {},
   "outputs": [],
   "source": [
    "scaler = StandardScaler()\n",
    "train = scaler.fit_transform(train)\n",
    "test = scaler.transform(test)"
   ]
  }
 ],
 "metadata": {
  "kernelspec": {
   "display_name": "data_analysis",
   "language": "python",
   "name": "data_analysis"
  },
  "language_info": {
   "codemirror_mode": {
    "name": "ipython",
    "version": 3
   },
   "file_extension": ".py",
   "mimetype": "text/x-python",
   "name": "python",
   "nbconvert_exporter": "python",
   "pygments_lexer": "ipython3",
   "version": "3.10.13"
  }
 },
 "nbformat": 4,
 "nbformat_minor": 2
}
