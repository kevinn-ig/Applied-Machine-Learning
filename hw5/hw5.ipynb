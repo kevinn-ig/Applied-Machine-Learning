{
 "cells": [
  {
   "cell_type": "markdown",
   "metadata": {},
   "source": [
    "# Homework 5\n",
    "Evelina Teran & Kevin Smith"
   ]
  },
  {
   "cell_type": "code",
   "execution_count": null,
   "metadata": {},
   "outputs": [],
   "source": [
    "import numpy as np\n",
    "import pandas as pd\n",
    "import platform\n",
    "import os\n",
    "from sklearn import datasets\n",
    "from sklearn.preprocessing import StandardScaler\n",
    "from sklearn.linear_model import LogisticRegression\n",
    "from sklearn.metrics import accuracy_score, roc_curve, auc\n",
    "import matplotlib.pyplot as plt"
   ]
  },
  {
   "cell_type": "code",
   "execution_count": null,
   "metadata": {},
   "outputs": [],
   "source": [
    "# Lorenz Loss:\n",
    "# if(x >1): 0\n",
    "# else: ln(1+(x-1)**2)"
   ]
  },
  {
   "cell_type": "markdown",
   "metadata": {},
   "source": [
    "## Question 1"
   ]
  },
  {
   "cell_type": "code",
   "execution_count": null,
   "metadata": {},
   "outputs": [],
   "source": [
    "data_direc = os.getcwd() + \"/\"\n",
    "if platform.system() == \"Windows\":\n",
    "    data_direc = data_direc.replace(\"/\", \"\\\\\")\n",
    "train = pd.read_csv(data_direc + \"gisette_train.csv\")\n",
    "train_labels = pd.read_csv(data_direc + \"gisette_train_labels.csv\")\n",
    "test = pd.read_csv(data_direc + \"gisette_valid.csv\")\n",
    "test_labels = pd.read_csv(data_direc + \"gisette_valid_labels.csv\")\n",
    "train = np.delete(train, 5000, axis=1)\n",
    "test = np.delete(test, 5000, axis=1)"
   ]
  },
  {
   "cell_type": "code",
   "execution_count": 21,
   "metadata": {},
   "outputs": [
    {
     "ename": "ValueError",
     "evalue": "shapes (6000,10) and (5000,) not aligned: 10 (dim 1) != 5000 (dim 0)",
     "output_type": "error",
     "traceback": [
      "\u001b[1;31m---------------------------------------------------------------------------\u001b[0m",
      "\u001b[1;31mValueError\u001b[0m                                Traceback (most recent call last)",
      "Cell \u001b[1;32mIn[21], line 52\u001b[0m\n\u001b[0;32m     49\u001b[0m test_selected_k \u001b[38;5;241m=\u001b[39m test_normalized[:, selected_vars_k]\n\u001b[0;32m     51\u001b[0m \u001b[38;5;66;03m# Use the existing logistic regression model with k features for predictions\u001b[39;00m\n\u001b[1;32m---> 52\u001b[0m train_pred_prob_k \u001b[38;5;241m=\u001b[39m \u001b[43mnp\u001b[49m\u001b[38;5;241;43m.\u001b[39;49m\u001b[43mdot\u001b[49m\u001b[43m(\u001b[49m\u001b[43mtrain_selected_k\u001b[49m\u001b[43m,\u001b[49m\u001b[43m \u001b[49m\u001b[43mbeta\u001b[49m\u001b[43m)\u001b[49m\n\u001b[0;32m     53\u001b[0m test_pred_prob_k \u001b[38;5;241m=\u001b[39m np\u001b[38;5;241m.\u001b[39mdot(test_selected_k, beta)\n\u001b[0;32m     55\u001b[0m \u001b[38;5;66;03m# Calculate the false positive rate (fpr) and true positive rate (tpr) for the ROC curve\u001b[39;00m\n",
      "\u001b[1;31mValueError\u001b[0m: shapes (6000,10) and (5000,) not aligned: 10 (dim 1) != 5000 (dim 0)"
     ]
    },
    {
     "data": {
      "image/png": "[encoded data removed]",
      "text/plain": [
       "<Figure size 640x480 with 1 Axes>"
      ]
     },
     "metadata": {},
     "output_type": "display_data"
    }
   ],
   "source": [
    "# Normalize the data\n",
    "scaler = StandardScaler()\n",
    "train_normalized = scaler.fit_transform(train)\n",
    "test_normalized = scaler.transform(test)\n",
    "\n",
    "# Define parameters\n",
    "s = 0.001\n",
    "mu = 300\n",
    "N_iter = 300\n",
    "# Define k values\n",
    "k_values = [10, 30, 100, 300, 500]\n",
    "\n",
    "# Initialize lists to store results\n",
    "train_errors = []\n",
    "test_errors = []\n",
    "roc_aucs = []\n",
    "\n",
    "for k in k_values:\n",
    "    # Initialize beta, gamma, and selected variables\n",
    "    beta = np.zeros(train_normalized.shape[1])\n",
    "    gamma = np.zeros(train_normalized.shape[1])\n",
    "    selected_vars = []\n",
    "\n",
    "    # FSA algorithm with modification to record the loss\n",
    "    losses_k = []  # To store the training loss for k\n",
    "    for _ in range(N_iter):\n",
    "        loss = 0  # Initialize loss for this iteration\n",
    "        for j in range(train_normalized.shape[1]):\n",
    "            gamma_j = gamma[j] + mu * beta[j]\n",
    "            beta_j = beta.copy()\n",
    "            beta_j[j] = 0\n",
    "            z = np.dot(train_normalized, beta_j)\n",
    "            yz = np.multiply(train_labels.values.flatten(), z)\n",
    "            l_prime = np.where(yz > 1, 0, -2 * (yz - 1) / (1 + (yz - 1) ** 2))\n",
    "            gradient_j = np.mean(np.multiply(l_prime, train_normalized[:, j])) + 2 * s * beta[j]\n",
    "            gamma[j] = gamma_j - mu * gradient_j\n",
    "            beta[j] -= mu * gradient_j  # Update beta with gradient descent step\n",
    "            if (yz <= 1).all():\n",
    "                loss += np.log(1 + (yz - 1) ** 2)\n",
    "\n",
    "        losses_k.append(loss / len(train_normalized))\n",
    "\n",
    "    # Plot training loss vs iteration number for k\n",
    "    plt.plot(losses_k, label='Training loss (k=%d)' % k)\n",
    "\n",
    "    # Select the top k features based on the FSA algorithm for ROC curve\n",
    "    selected_vars_k = np.argsort(np.abs(gamma))[-k:]\n",
    "    train_selected_k = train_normalized[:, selected_vars_k]\n",
    "    test_selected_k = test_normalized[:, selected_vars_k]\n",
    "\n",
    "    # Use the existing logistic regression model with k features for predictions\n",
    "    train_pred_prob_k = np.dot(train_selected_k, beta)\n",
    "    test_pred_prob_k = np.dot(test_selected_k, beta)\n",
    "\n",
    "    # Calculate the false positive rate (fpr) and true positive rate (tpr) for the ROC curve\n",
    "    fpr_k, tpr_k, _ = roc_curve(test_labels, test_pred_prob_k)\n",
    "\n",
    "    # Calculate the ROC AUC score\n",
    "    roc_auc_k = auc(fpr_k, tpr_k)\n",
    "\n",
    "    # Store the misclassification error and ROC AUC score\n",
    "    train_error_k = np.mean(np.abs(np.sign(train_pred_prob_k) - train_labels.values.flatten()) / 2)\n",
    "    test_error_k = np.mean(np.abs(np.sign(test_pred_prob_k) - test_labels.values.flatten()) / 2)\n",
    "    train_errors.append(train_error_k)\n",
    "    test_errors.append(test_error_k)\n",
    "    roc_aucs.append(roc_auc_k)\n",
    "\n",
    "# Plot training loss vs iteration number for each k\n",
    "plt.xlabel('Iteration number')\n",
    "plt.ylabel('Training loss')\n",
    "plt.title('Training loss vs iteration number for different k')\n",
    "plt.legend()\n",
    "plt.show()\n",
    "\n",
    "# Plot misclassification error vs k\n",
    "plt.plot(k_values, train_errors, label='Training error')\n",
    "plt.plot(k_values, test_errors, label='Test error')\n",
    "plt.xlabel('Number of features (k)')\n",
    "plt.ylabel('Misclassification error')\n",
    "plt.title('Misclassification error vs k')\n",
    "plt.legend()\n",
    "plt.show()\n",
    "\n",
    "# Plot ROC AUC vs k\n",
    "plt.plot(k_values, roc_aucs)\n",
    "plt.xlabel('Number of features (k)')\n",
    "plt.ylabel('ROC AUC')\n",
    "plt.title('ROC AUC vs k')\n",
    "plt.show()\n"
   ]
  },
  {
   "cell_type": "code",
   "execution_count": null,
   "metadata": {},
   "outputs": [],
   "source": [
    "# Assume train and test data are already defined\n",
    "scaler = StandardScaler()\n",
    "train = scaler.fit_transform(train)\n",
    "test = scaler.transform(test)\n",
    "\n",
    "# Define k values\n",
    "k_values = [10, 30, 100, 300, 500]\n",
    "\n",
    "# Perform FSA\n",
    "train_errors, test_errors, train_roc_auc, test_roc_auc, fpr_train, tpr_train, fpr_test, tpr_test = fsa(train, train_labels, test, test_labels, k_values)\n",
    "\n",
    "# Plot ROC curves\n",
    "num_features_values = [10, 30, 100, 300, 500]\n",
    "fig, axs = plt.subplots(2, 3, figsize=(15, 10))\n",
    "\n",
    "for i, num_features in enumerate(num_features_values):\n",
    "    ax = axs[i // 3, i % 3]\n",
    "    ax.plot(fpr_train[i], tpr_train[i], label=\"Training ROC Curve (AUC = {:.2f})\".format(train_roc_auc[i]))\n",
    "    ax.plot(fpr_test[i], tpr_test[i], label=\"Test ROC Curve (AUC = {:.2f})\".format(test_roc_auc[i]))\n",
    "    ax.plot([0, 1], [0, 1], color=\"navy\", lw=2, linestyle=\"--\")\n",
    "    ax.set_xlabel(\"False Positive Rate\")\n",
    "    ax.set_ylabel(\"True Positive Rate\")\n",
    "    ax.set_title(f\"ROC Curve for {num_features} features\")\n",
    "    ax.legend(loc=\"lower right\")\n",
    "\n",
    "plt.tight_layout()\n",
    "plt.show()"
   ]
  },
  {
   "cell_type": "markdown",
   "metadata": {},
   "source": [
    "## Question 2"
   ]
  },
  {
   "cell_type": "code",
   "execution_count": null,
   "metadata": {},
   "outputs": [],
   "source": [
    "train = pd.read_csv(data_direc + \"dexter_train.csv\", header = None)\n",
    "train_labels = pd.read_csv(data_direc + \"dexter_train_labels.csv\", header = None)\n",
    "test = pd.read_csv(data_direc + \"dexter_valid.csv\", header = None)\n",
    "test_labels = pd.read_csv(data_direc + \"dexter_valid_labels.csv\", header = None)"
   ]
  },
  {
   "cell_type": "code",
   "execution_count": null,
   "metadata": {},
   "outputs": [],
   "source": [
    "scaler = StandardScaler()\n",
    "train = scaler.fit_transform(train)\n",
    "test = scaler.transform(test)"
   ]
  },
  {
   "cell_type": "markdown",
   "metadata": {},
   "source": [
    "## Question 3"
   ]
  },
  {
   "cell_type": "code",
   "execution_count": null,
   "metadata": {},
   "outputs": [],
   "source": [
    "train = pd.read_fwf(data_direc + \"madelon_train.data\", header = None)\n",
    "train_labels = pd.read_fwf(data_direc + \"madelon_train.labels\", header = None)\n",
    "test = pd.read_fwf(data_direc + \"madelon_valid.data\", header = None)\n",
    "test_labels = pd.read_fwf(data_direc + \"madelon_valid.labels\", header = None)"
   ]
  },
  {
   "cell_type": "code",
   "execution_count": null,
   "metadata": {},
   "outputs": [],
   "source": [
    "scaler = StandardScaler()\n",
    "train = scaler.fit_transform(train)\n",
    "test = scaler.transform(test)"
   ]
  }
 ],
 "metadata": {
  "kernelspec": {
   "display_name": "Python 3",
   "language": "python",
   "name": "python3"
  },
  "language_info": {
   "codemirror_mode": {
    "name": "ipython",
    "version": 3
   },
   "file_extension": ".py",
   "mimetype": "text/x-python",
   "name": "python",
   "nbconvert_exporter": "python",
   "pygments_lexer": "ipython3",
   "version": "3.12.1"
  }
 },
 "nbformat": 4,
 "nbformat_minor": 2
}
