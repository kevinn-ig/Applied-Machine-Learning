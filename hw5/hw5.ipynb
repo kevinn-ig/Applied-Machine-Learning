{
 "cells": [
  {
   "cell_type": "markdown",
   "metadata": {},
   "source": [
    "# Homework 5\n",
    "Evelina Teran & Kevin Smith"
   ]
  },
  {
   "cell_type": "code",
   "execution_count": 33,
   "metadata": {},
   "outputs": [],
   "source": [
    "import numpy as np\n",
    "import pandas as pd\n",
    "import platform\n",
    "import os\n",
    "from sklearn import datasets\n",
    "from sklearn.preprocessing import StandardScaler\n",
    "from sklearn.linear_model import LogisticRegression\n",
    "from sklearn.metrics import accuracy_score, roc_curve, auc\n",
    "import matplotlib.pyplot as plt"
   ]
  },
  {
   "cell_type": "code",
   "execution_count": 34,
   "metadata": {},
   "outputs": [],
   "source": [
    "# Lorenz Loss:\n",
    "# if(x >1): 0\n",
    "# else: ln(1+(x-1)**2)"
   ]
  },
  {
   "cell_type": "markdown",
   "metadata": {},
   "source": [
    "## Question 1"
   ]
  },
  {
   "cell_type": "code",
   "execution_count": 35,
   "metadata": {},
   "outputs": [],
   "source": [
    "data_direc = os.getcwd() + \"/\"\n",
    "if platform.system() == \"Windows\":\n",
    "    data_direc = data_direc.replace(\"/\", \"\\\\\")\n",
    "train = pd.read_csv(data_direc + \"gisette_train.csv\")\n",
    "train_labels = pd.read_csv(data_direc + \"gisette_train_labels.csv\")\n",
    "test = pd.read_csv(data_direc + \"gisette_valid.csv\")\n",
    "test_labels = pd.read_csv(data_direc + \"gisette_valid_labels.csv\")\n",
    "train = np.delete(train, 5000, axis=1)\n",
    "test = np.delete(test, 5000, axis=1)\n"
   ]
  },
  {
   "cell_type": "code",
   "execution_count": 53,
   "metadata": {},
   "outputs": [],
   "source": [
    "def der_loss(beta, X, y, s):\n",
    "    n = len(y)\n",
    "    z = -y* np.dot(X, beta.T)\n",
    "    return (1/n)* np.dot(-y/(1+np.exp(z)), X) +2*s*beta\n",
    "\n",
    "s = .0001\n",
    "mu = 200\n",
    "iterations = 300\n"
   ]
  },
  {
   "cell_type": "code",
   "execution_count": 54,
   "metadata": {},
   "outputs": [
    {
     "name": "stdout",
     "output_type": "stream",
     "text": [
      "[[-0.78976332 -0.98151706 -0.56563071 ... -0.98656091 -0.85374647\n",
      "  -0.97413963]\n",
      " [-0.97588126 -0.83826867 -0.73350012 ... -0.84535178 -0.99768048\n",
      "  -0.23458088]\n",
      " [-0.3450312   0.         -0.96896925 ... -0.93773312 -0.98355821\n",
      "  -0.95254402]\n",
      " ...\n",
      " [-0.97240545  0.          0.         ... -0.3201321  -0.89534685\n",
      "  -0.97079522]\n",
      " [-0.9111512  -0.99695541 -0.9922718  ... -0.93030092 -0.82102374\n",
      "  -0.99048909]\n",
      " [-0.75278298 -0.93179107 -0.78606444 ... -0.93773312 -0.97252579\n",
      "  -0.29549905]]\n"
     ]
    },
    {
     "ename": "ValueError",
     "evalue": "operands could not be broadcast together with shapes (10,1) (2000,500) (10,1) ",
     "output_type": "error",
     "traceback": [
      "\u001b[0;31m---------------------------------------------------------------------------\u001b[0m",
      "\u001b[0;31mValueError\u001b[0m                                Traceback (most recent call last)",
      "Cell \u001b[0;32mIn[54], line 10\u001b[0m\n\u001b[1;32m      7\u001b[0m k_values \u001b[38;5;241m=\u001b[39m [\u001b[38;5;241m10\u001b[39m, \u001b[38;5;241m30\u001b[39m, \u001b[38;5;241m100\u001b[39m, \u001b[38;5;241m300\u001b[39m, \u001b[38;5;241m500\u001b[39m]\n\u001b[1;32m      9\u001b[0m \u001b[38;5;66;03m# Perform FSA\u001b[39;00m\n\u001b[0;32m---> 10\u001b[0m train_errors, test_errors, train_roc_auc, test_roc_auc, fpr_train, tpr_train, fpr_test, tpr_test \u001b[38;5;241m=\u001b[39m \u001b[43mfsa\u001b[49m\u001b[43m(\u001b[49m\u001b[43mtrain\u001b[49m\u001b[43m,\u001b[49m\u001b[43m \u001b[49m\u001b[43mtrain_labels\u001b[49m\u001b[43m,\u001b[49m\u001b[43m \u001b[49m\u001b[43mtest\u001b[49m\u001b[43m,\u001b[49m\u001b[43m \u001b[49m\u001b[43mtest_labels\u001b[49m\u001b[43m,\u001b[49m\u001b[43m \u001b[49m\u001b[43mk_values\u001b[49m\u001b[43m)\u001b[49m\n\u001b[1;32m     12\u001b[0m \u001b[38;5;66;03m# Plot ROC curves\u001b[39;00m\n\u001b[1;32m     13\u001b[0m num_features_values \u001b[38;5;241m=\u001b[39m [\u001b[38;5;241m10\u001b[39m, \u001b[38;5;241m30\u001b[39m, \u001b[38;5;241m100\u001b[39m, \u001b[38;5;241m300\u001b[39m, \u001b[38;5;241m500\u001b[39m]\n",
      "Cell \u001b[0;32mIn[53], line 29\u001b[0m, in \u001b[0;36mfsa\u001b[0;34m(train, train_labels, test, test_labels, k_values, max_iter, s, mu)\u001b[0m\n\u001b[1;32m     27\u001b[0m     gradient \u001b[38;5;241m=\u001b[39m custom_loss_derivative(train, beta)\n\u001b[1;32m     28\u001b[0m     \u001b[38;5;28mprint\u001b[39m(gradient)\n\u001b[0;32m---> 29\u001b[0m     beta \u001b[38;5;241m-\u001b[39m\u001b[38;5;241m=\u001b[39m s \u001b[38;5;241m*\u001b[39m gradient\n\u001b[1;32m     31\u001b[0m train_labels_pred \u001b[38;5;241m=\u001b[39m (\u001b[38;5;241m1\u001b[39m \u001b[38;5;241m/\u001b[39m (\u001b[38;5;241m1\u001b[39m \u001b[38;5;241m+\u001b[39m np\u001b[38;5;241m.\u001b[39mexp(\u001b[38;5;241m-\u001b[39mtrain_temp \u001b[38;5;241m@\u001b[39m beta))) \u001b[38;5;241m>\u001b[39m \u001b[38;5;241m0.5\u001b[39m\n\u001b[1;32m     32\u001b[0m train_error \u001b[38;5;241m=\u001b[39m np\u001b[38;5;241m.\u001b[39mmean(train_labels_pred \u001b[38;5;241m!=\u001b[39m train_labels)\n",
      "\u001b[0;31mValueError\u001b[0m: operands could not be broadcast together with shapes (10,1) (2000,500) (10,1) "
     ]
    }
   ],
   "source": [
    "# Assume train and test data are already defined\n",
    "scaler = StandardScaler()\n",
    "train = scaler.fit_transform(train)\n",
    "test = scaler.transform(test)\n",
    "\n",
    "# Define k values\n",
    "k_values = [10, 30, 100, 300, 500]\n",
    "\n",
    "# Perform FSA\n",
    "train_errors, test_errors, train_roc_auc, test_roc_auc, fpr_train, tpr_train, fpr_test, tpr_test = fsa(train, train_labels, test, test_labels, k_values)\n",
    "\n",
    "# Plot ROC curves\n",
    "num_features_values = [10, 30, 100, 300, 500]\n",
    "fig, axs = plt.subplots(2, 3, figsize=(15, 10))\n",
    "\n",
    "for i, num_features in enumerate(num_features_values):\n",
    "    ax = axs[i // 3, i % 3]\n",
    "    ax.plot(fpr_train[i], tpr_train[i], label=\"Training ROC Curve (AUC = {:.2f})\".format(train_roc_auc[i]))\n",
    "    ax.plot(fpr_test[i], tpr_test[i], label=\"Test ROC Curve (AUC = {:.2f})\".format(test_roc_auc[i]))\n",
    "    ax.plot([0, 1], [0, 1], color=\"navy\", lw=2, linestyle=\"--\")\n",
    "    ax.set_xlabel(\"False Positive Rate\")\n",
    "    ax.set_ylabel(\"True Positive Rate\")\n",
    "    ax.set_title(f\"ROC Curve for {num_features} features\")\n",
    "    ax.legend(loc=\"lower right\")\n",
    "\n",
    "plt.tight_layout()\n",
    "plt.show()"
   ]
  },
  {
   "cell_type": "code",
   "execution_count": 52,
   "metadata": {},
   "outputs": [
    {
     "data": {
      "text/plain": [
       "-1534513.3300920369"
      ]
     },
     "execution_count": 52,
     "metadata": {},
     "output_type": "execute_result"
    }
   ],
   "source": [
    "gradient"
   ]
  },
  {
   "cell_type": "code",
   "execution_count": null,
   "metadata": {},
   "outputs": [],
   "source": []
  },
  {
   "cell_type": "code",
   "execution_count": null,
   "metadata": {},
   "outputs": [],
   "source": []
  },
  {
   "cell_type": "markdown",
   "metadata": {},
   "source": [
    "## Question 2"
   ]
  },
  {
   "cell_type": "code",
   "execution_count": 38,
   "metadata": {},
   "outputs": [],
   "source": [
    "train = pd.read_csv(data_direc + \"dexter_train.csv\", header = None)\n",
    "train_labels = pd.read_csv(data_direc + \"dexter_train_labels.csv\", header = None)\n",
    "test = pd.read_csv(data_direc + \"dexter_valid.csv\", header = None)\n",
    "test_labels = pd.read_csv(data_direc + \"dexter_valid_labels.csv\", header = None)"
   ]
  },
  {
   "cell_type": "code",
   "execution_count": 39,
   "metadata": {},
   "outputs": [],
   "source": [
    "scaler = StandardScaler()\n",
    "train = scaler.fit_transform(train)\n",
    "test = scaler.transform(test)"
   ]
  },
  {
   "cell_type": "markdown",
   "metadata": {},
   "source": [
    "## Question 3"
   ]
  },
  {
   "cell_type": "code",
   "execution_count": 40,
   "metadata": {},
   "outputs": [],
   "source": [
    "train = pd.read_fwf(data_direc + \"madelon_train.data\", header = None)\n",
    "train_labels = pd.read_fwf(data_direc + \"madelon_train.labels\", header = None)\n",
    "test = pd.read_fwf(data_direc + \"madelon_valid.data\", header = None)\n",
    "test_labels = pd.read_fwf(data_direc + \"madelon_valid.labels\", header = None)"
   ]
  },
  {
   "cell_type": "code",
   "execution_count": 41,
   "metadata": {},
   "outputs": [],
   "source": [
    "scaler = StandardScaler()\n",
    "train = scaler.fit_transform(train)\n",
    "test = scaler.transform(test)"
   ]
  }
 ],
 "metadata": {
  "kernelspec": {
   "display_name": "data_analysis",
   "language": "python",
   "name": "data_analysis"
  },
  "language_info": {
   "codemirror_mode": {
    "name": "ipython",
    "version": 3
   },
   "file_extension": ".py",
   "mimetype": "text/x-python",
   "name": "python",
   "nbconvert_exporter": "python",
   "pygments_lexer": "ipython3",
   "version": "3.10.13"
  }
 },
 "nbformat": 4,
 "nbformat_minor": 2
}
